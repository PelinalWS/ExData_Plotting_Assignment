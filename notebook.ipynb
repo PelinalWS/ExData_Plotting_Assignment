{
 "cells": [
  {
   "cell_type": "markdown",
   "metadata": {},
   "source": [
    "## SETUP"
   ]
  },
  {
   "cell_type": "code",
   "execution_count": 1,
   "metadata": {
    "vscode": {
     "languageId": "r"
    }
   },
   "outputs": [],
   "source": [
    "data <- read.table(\"./household_power_consumption.txt\", header= TRUE, sep= \";\", na.strings = \"?\")"
   ]
  },
  {
   "cell_type": "code",
   "execution_count": 2,
   "metadata": {
    "vscode": {
     "languageId": "r"
    }
   },
   "outputs": [
    {
     "data": {
      "text/html": [
       "<table class=\"dataframe\">\n",
       "<caption>A data.frame: 6 × 9</caption>\n",
       "<thead>\n",
       "\t<tr><th></th><th scope=col>Date</th><th scope=col>Time</th><th scope=col>Global_active_power</th><th scope=col>Global_reactive_power</th><th scope=col>Voltage</th><th scope=col>Global_intensity</th><th scope=col>Sub_metering_1</th><th scope=col>Sub_metering_2</th><th scope=col>Sub_metering_3</th></tr>\n",
       "\t<tr><th></th><th scope=col>&lt;chr&gt;</th><th scope=col>&lt;chr&gt;</th><th scope=col>&lt;dbl&gt;</th><th scope=col>&lt;dbl&gt;</th><th scope=col>&lt;dbl&gt;</th><th scope=col>&lt;dbl&gt;</th><th scope=col>&lt;dbl&gt;</th><th scope=col>&lt;dbl&gt;</th><th scope=col>&lt;dbl&gt;</th></tr>\n",
       "</thead>\n",
       "<tbody>\n",
       "\t<tr><th scope=row>1</th><td>16/12/2006</td><td>17:24:00</td><td>4.216</td><td>0.418</td><td>234.84</td><td>18.4</td><td>0</td><td>1</td><td>17</td></tr>\n",
       "\t<tr><th scope=row>2</th><td>16/12/2006</td><td>17:25:00</td><td>5.360</td><td>0.436</td><td>233.63</td><td>23.0</td><td>0</td><td>1</td><td>16</td></tr>\n",
       "\t<tr><th scope=row>3</th><td>16/12/2006</td><td>17:26:00</td><td>5.374</td><td>0.498</td><td>233.29</td><td>23.0</td><td>0</td><td>2</td><td>17</td></tr>\n",
       "\t<tr><th scope=row>4</th><td>16/12/2006</td><td>17:27:00</td><td>5.388</td><td>0.502</td><td>233.74</td><td>23.0</td><td>0</td><td>1</td><td>17</td></tr>\n",
       "\t<tr><th scope=row>5</th><td>16/12/2006</td><td>17:28:00</td><td>3.666</td><td>0.528</td><td>235.68</td><td>15.8</td><td>0</td><td>1</td><td>17</td></tr>\n",
       "\t<tr><th scope=row>6</th><td>16/12/2006</td><td>17:29:00</td><td>3.520</td><td>0.522</td><td>235.02</td><td>15.0</td><td>0</td><td>2</td><td>17</td></tr>\n",
       "</tbody>\n",
       "</table>\n"
      ],
      "text/latex": [
       "A data.frame: 6 × 9\n",
       "\\begin{tabular}{r|lllllllll}\n",
       "  & Date & Time & Global\\_active\\_power & Global\\_reactive\\_power & Voltage & Global\\_intensity & Sub\\_metering\\_1 & Sub\\_metering\\_2 & Sub\\_metering\\_3\\\\\n",
       "  & <chr> & <chr> & <dbl> & <dbl> & <dbl> & <dbl> & <dbl> & <dbl> & <dbl>\\\\\n",
       "\\hline\n",
       "\t1 & 16/12/2006 & 17:24:00 & 4.216 & 0.418 & 234.84 & 18.4 & 0 & 1 & 17\\\\\n",
       "\t2 & 16/12/2006 & 17:25:00 & 5.360 & 0.436 & 233.63 & 23.0 & 0 & 1 & 16\\\\\n",
       "\t3 & 16/12/2006 & 17:26:00 & 5.374 & 0.498 & 233.29 & 23.0 & 0 & 2 & 17\\\\\n",
       "\t4 & 16/12/2006 & 17:27:00 & 5.388 & 0.502 & 233.74 & 23.0 & 0 & 1 & 17\\\\\n",
       "\t5 & 16/12/2006 & 17:28:00 & 3.666 & 0.528 & 235.68 & 15.8 & 0 & 1 & 17\\\\\n",
       "\t6 & 16/12/2006 & 17:29:00 & 3.520 & 0.522 & 235.02 & 15.0 & 0 & 2 & 17\\\\\n",
       "\\end{tabular}\n"
      ],
      "text/markdown": [
       "\n",
       "A data.frame: 6 × 9\n",
       "\n",
       "| <!--/--> | Date &lt;chr&gt; | Time &lt;chr&gt; | Global_active_power &lt;dbl&gt; | Global_reactive_power &lt;dbl&gt; | Voltage &lt;dbl&gt; | Global_intensity &lt;dbl&gt; | Sub_metering_1 &lt;dbl&gt; | Sub_metering_2 &lt;dbl&gt; | Sub_metering_3 &lt;dbl&gt; |\n",
       "|---|---|---|---|---|---|---|---|---|---|\n",
       "| 1 | 16/12/2006 | 17:24:00 | 4.216 | 0.418 | 234.84 | 18.4 | 0 | 1 | 17 |\n",
       "| 2 | 16/12/2006 | 17:25:00 | 5.360 | 0.436 | 233.63 | 23.0 | 0 | 1 | 16 |\n",
       "| 3 | 16/12/2006 | 17:26:00 | 5.374 | 0.498 | 233.29 | 23.0 | 0 | 2 | 17 |\n",
       "| 4 | 16/12/2006 | 17:27:00 | 5.388 | 0.502 | 233.74 | 23.0 | 0 | 1 | 17 |\n",
       "| 5 | 16/12/2006 | 17:28:00 | 3.666 | 0.528 | 235.68 | 15.8 | 0 | 1 | 17 |\n",
       "| 6 | 16/12/2006 | 17:29:00 | 3.520 | 0.522 | 235.02 | 15.0 | 0 | 2 | 17 |\n",
       "\n"
      ],
      "text/plain": [
       "  Date       Time     Global_active_power Global_reactive_power Voltage\n",
       "1 16/12/2006 17:24:00 4.216               0.418                 234.84 \n",
       "2 16/12/2006 17:25:00 5.360               0.436                 233.63 \n",
       "3 16/12/2006 17:26:00 5.374               0.498                 233.29 \n",
       "4 16/12/2006 17:27:00 5.388               0.502                 233.74 \n",
       "5 16/12/2006 17:28:00 3.666               0.528                 235.68 \n",
       "6 16/12/2006 17:29:00 3.520               0.522                 235.02 \n",
       "  Global_intensity Sub_metering_1 Sub_metering_2 Sub_metering_3\n",
       "1 18.4             0              1              17            \n",
       "2 23.0             0              1              16            \n",
       "3 23.0             0              2              17            \n",
       "4 23.0             0              1              17            \n",
       "5 15.8             0              1              17            \n",
       "6 15.0             0              2              17            "
      ]
     },
     "metadata": {},
     "output_type": "display_data"
    }
   ],
   "source": [
    "head(data)"
   ]
  },
  {
   "cell_type": "code",
   "execution_count": 3,
   "metadata": {
    "vscode": {
     "languageId": "r"
    }
   },
   "outputs": [],
   "source": [
    "days <- data[((data$Date==\"1/2/2007\"|data$Date==\"2/2/2007\")),]"
   ]
  },
  {
   "cell_type": "code",
   "execution_count": 4,
   "metadata": {
    "vscode": {
     "languageId": "r"
    }
   },
   "outputs": [
    {
     "data": {
      "text/html": [
       "<table class=\"dataframe\">\n",
       "<caption>A data.frame: 6 × 9</caption>\n",
       "<thead>\n",
       "\t<tr><th></th><th scope=col>Date</th><th scope=col>Time</th><th scope=col>Global_active_power</th><th scope=col>Global_reactive_power</th><th scope=col>Voltage</th><th scope=col>Global_intensity</th><th scope=col>Sub_metering_1</th><th scope=col>Sub_metering_2</th><th scope=col>Sub_metering_3</th></tr>\n",
       "\t<tr><th></th><th scope=col>&lt;chr&gt;</th><th scope=col>&lt;chr&gt;</th><th scope=col>&lt;dbl&gt;</th><th scope=col>&lt;dbl&gt;</th><th scope=col>&lt;dbl&gt;</th><th scope=col>&lt;dbl&gt;</th><th scope=col>&lt;dbl&gt;</th><th scope=col>&lt;dbl&gt;</th><th scope=col>&lt;dbl&gt;</th></tr>\n",
       "</thead>\n",
       "<tbody>\n",
       "\t<tr><th scope=row>66637</th><td>1/2/2007</td><td>00:00:00</td><td>0.326</td><td>0.128</td><td>243.15</td><td>1.4</td><td>0</td><td>0</td><td>0</td></tr>\n",
       "\t<tr><th scope=row>66638</th><td>1/2/2007</td><td>00:01:00</td><td>0.326</td><td>0.130</td><td>243.32</td><td>1.4</td><td>0</td><td>0</td><td>0</td></tr>\n",
       "\t<tr><th scope=row>66639</th><td>1/2/2007</td><td>00:02:00</td><td>0.324</td><td>0.132</td><td>243.51</td><td>1.4</td><td>0</td><td>0</td><td>0</td></tr>\n",
       "\t<tr><th scope=row>66640</th><td>1/2/2007</td><td>00:03:00</td><td>0.324</td><td>0.134</td><td>243.90</td><td>1.4</td><td>0</td><td>0</td><td>0</td></tr>\n",
       "\t<tr><th scope=row>66641</th><td>1/2/2007</td><td>00:04:00</td><td>0.322</td><td>0.130</td><td>243.16</td><td>1.4</td><td>0</td><td>0</td><td>0</td></tr>\n",
       "\t<tr><th scope=row>66642</th><td>1/2/2007</td><td>00:05:00</td><td>0.320</td><td>0.126</td><td>242.29</td><td>1.4</td><td>0</td><td>0</td><td>0</td></tr>\n",
       "</tbody>\n",
       "</table>\n"
      ],
      "text/latex": [
       "A data.frame: 6 × 9\n",
       "\\begin{tabular}{r|lllllllll}\n",
       "  & Date & Time & Global\\_active\\_power & Global\\_reactive\\_power & Voltage & Global\\_intensity & Sub\\_metering\\_1 & Sub\\_metering\\_2 & Sub\\_metering\\_3\\\\\n",
       "  & <chr> & <chr> & <dbl> & <dbl> & <dbl> & <dbl> & <dbl> & <dbl> & <dbl>\\\\\n",
       "\\hline\n",
       "\t66637 & 1/2/2007 & 00:00:00 & 0.326 & 0.128 & 243.15 & 1.4 & 0 & 0 & 0\\\\\n",
       "\t66638 & 1/2/2007 & 00:01:00 & 0.326 & 0.130 & 243.32 & 1.4 & 0 & 0 & 0\\\\\n",
       "\t66639 & 1/2/2007 & 00:02:00 & 0.324 & 0.132 & 243.51 & 1.4 & 0 & 0 & 0\\\\\n",
       "\t66640 & 1/2/2007 & 00:03:00 & 0.324 & 0.134 & 243.90 & 1.4 & 0 & 0 & 0\\\\\n",
       "\t66641 & 1/2/2007 & 00:04:00 & 0.322 & 0.130 & 243.16 & 1.4 & 0 & 0 & 0\\\\\n",
       "\t66642 & 1/2/2007 & 00:05:00 & 0.320 & 0.126 & 242.29 & 1.4 & 0 & 0 & 0\\\\\n",
       "\\end{tabular}\n"
      ],
      "text/markdown": [
       "\n",
       "A data.frame: 6 × 9\n",
       "\n",
       "| <!--/--> | Date &lt;chr&gt; | Time &lt;chr&gt; | Global_active_power &lt;dbl&gt; | Global_reactive_power &lt;dbl&gt; | Voltage &lt;dbl&gt; | Global_intensity &lt;dbl&gt; | Sub_metering_1 &lt;dbl&gt; | Sub_metering_2 &lt;dbl&gt; | Sub_metering_3 &lt;dbl&gt; |\n",
       "|---|---|---|---|---|---|---|---|---|---|\n",
       "| 66637 | 1/2/2007 | 00:00:00 | 0.326 | 0.128 | 243.15 | 1.4 | 0 | 0 | 0 |\n",
       "| 66638 | 1/2/2007 | 00:01:00 | 0.326 | 0.130 | 243.32 | 1.4 | 0 | 0 | 0 |\n",
       "| 66639 | 1/2/2007 | 00:02:00 | 0.324 | 0.132 | 243.51 | 1.4 | 0 | 0 | 0 |\n",
       "| 66640 | 1/2/2007 | 00:03:00 | 0.324 | 0.134 | 243.90 | 1.4 | 0 | 0 | 0 |\n",
       "| 66641 | 1/2/2007 | 00:04:00 | 0.322 | 0.130 | 243.16 | 1.4 | 0 | 0 | 0 |\n",
       "| 66642 | 1/2/2007 | 00:05:00 | 0.320 | 0.126 | 242.29 | 1.4 | 0 | 0 | 0 |\n",
       "\n"
      ],
      "text/plain": [
       "      Date     Time     Global_active_power Global_reactive_power Voltage\n",
       "66637 1/2/2007 00:00:00 0.326               0.128                 243.15 \n",
       "66638 1/2/2007 00:01:00 0.326               0.130                 243.32 \n",
       "66639 1/2/2007 00:02:00 0.324               0.132                 243.51 \n",
       "66640 1/2/2007 00:03:00 0.324               0.134                 243.90 \n",
       "66641 1/2/2007 00:04:00 0.322               0.130                 243.16 \n",
       "66642 1/2/2007 00:05:00 0.320               0.126                 242.29 \n",
       "      Global_intensity Sub_metering_1 Sub_metering_2 Sub_metering_3\n",
       "66637 1.4              0              0              0             \n",
       "66638 1.4              0              0              0             \n",
       "66639 1.4              0              0              0             \n",
       "66640 1.4              0              0              0             \n",
       "66641 1.4              0              0              0             \n",
       "66642 1.4              0              0              0             "
      ]
     },
     "metadata": {},
     "output_type": "display_data"
    }
   ],
   "source": [
    "head(days)"
   ]
  },
  {
   "cell_type": "markdown",
   "metadata": {},
   "source": [
    "## Plot 1"
   ]
  },
  {
   "cell_type": "code",
   "execution_count": 5,
   "metadata": {
    "vscode": {
     "languageId": "r"
    }
   },
   "outputs": [],
   "source": [
    "png(filename = \"plot1.png\", width= 480, height= 480)"
   ]
  },
  {
   "cell_type": "code",
   "execution_count": 6,
   "metadata": {
    "vscode": {
     "languageId": "r"
    }
   },
   "outputs": [
    {
     "data": {
      "image/png": "[encoded data removed]",
      "text/plain": [
       "Plot with title \"Global Active Power\""
      ]
     },
     "metadata": {
      "image/png": {
       "height": 420,
       "width": 420
      }
     },
     "output_type": "display_data"
    }
   ],
   "source": [
    "par(bg=\"#ffffff\") #not needed\n",
    "hist(days$Global_active_power, main=\"Global Active Power\",xlab=\"Global Active Power (kilowatts)\", ylab=\"Frequency\", col=\"red\")"
   ]
  },
  {
   "cell_type": "code",
   "execution_count": 7,
   "metadata": {
    "vscode": {
     "languageId": "r"
    }
   },
   "outputs": [
    {
     "data": {
      "text/html": [
       "<strong>png:</strong> 3"
      ],
      "text/latex": [
       "\\textbf{png:} 3"
      ],
      "text/markdown": [
       "**png:** 3"
      ],
      "text/plain": [
       "png \n",
       "  3 "
      ]
     },
     "metadata": {},
     "output_type": "display_data"
    }
   ],
   "source": [
    "dev.off()"
   ]
  },
  {
   "cell_type": "markdown",
   "metadata": {},
   "source": [
    "## Plot 2"
   ]
  },
  {
   "cell_type": "code",
   "execution_count": 8,
   "metadata": {
    "vscode": {
     "languageId": "r"
    }
   },
   "outputs": [
    {
     "data": {
      "text/html": [
       "<table class=\"dataframe\">\n",
       "<caption>A data.frame: 6 × 10</caption>\n",
       "<thead>\n",
       "\t<tr><th></th><th scope=col>Date</th><th scope=col>Time</th><th scope=col>Global_active_power</th><th scope=col>Global_reactive_power</th><th scope=col>Voltage</th><th scope=col>Global_intensity</th><th scope=col>Sub_metering_1</th><th scope=col>Sub_metering_2</th><th scope=col>Sub_metering_3</th><th scope=col>DateTime</th></tr>\n",
       "\t<tr><th></th><th scope=col>&lt;chr&gt;</th><th scope=col>&lt;chr&gt;</th><th scope=col>&lt;dbl&gt;</th><th scope=col>&lt;dbl&gt;</th><th scope=col>&lt;dbl&gt;</th><th scope=col>&lt;dbl&gt;</th><th scope=col>&lt;dbl&gt;</th><th scope=col>&lt;dbl&gt;</th><th scope=col>&lt;dbl&gt;</th><th scope=col>&lt;dttm&gt;</th></tr>\n",
       "</thead>\n",
       "<tbody>\n",
       "\t<tr><th scope=row>66637</th><td>1/2/2007</td><td>00:00:00</td><td>0.326</td><td>0.128</td><td>243.15</td><td>1.4</td><td>0</td><td>0</td><td>0</td><td>2007-02-01 00:00:00</td></tr>\n",
       "\t<tr><th scope=row>66638</th><td>1/2/2007</td><td>00:01:00</td><td>0.326</td><td>0.130</td><td>243.32</td><td>1.4</td><td>0</td><td>0</td><td>0</td><td>2007-02-01 00:01:00</td></tr>\n",
       "\t<tr><th scope=row>66639</th><td>1/2/2007</td><td>00:02:00</td><td>0.324</td><td>0.132</td><td>243.51</td><td>1.4</td><td>0</td><td>0</td><td>0</td><td>2007-02-01 00:02:00</td></tr>\n",
       "\t<tr><th scope=row>66640</th><td>1/2/2007</td><td>00:03:00</td><td>0.324</td><td>0.134</td><td>243.90</td><td>1.4</td><td>0</td><td>0</td><td>0</td><td>2007-02-01 00:03:00</td></tr>\n",
       "\t<tr><th scope=row>66641</th><td>1/2/2007</td><td>00:04:00</td><td>0.322</td><td>0.130</td><td>243.16</td><td>1.4</td><td>0</td><td>0</td><td>0</td><td>2007-02-01 00:04:00</td></tr>\n",
       "\t<tr><th scope=row>66642</th><td>1/2/2007</td><td>00:05:00</td><td>0.320</td><td>0.126</td><td>242.29</td><td>1.4</td><td>0</td><td>0</td><td>0</td><td>2007-02-01 00:05:00</td></tr>\n",
       "</tbody>\n",
       "</table>\n"
      ],
      "text/latex": [
       "A data.frame: 6 × 10\n",
       "\\begin{tabular}{r|llllllllll}\n",
       "  & Date & Time & Global\\_active\\_power & Global\\_reactive\\_power & Voltage & Global\\_intensity & Sub\\_metering\\_1 & Sub\\_metering\\_2 & Sub\\_metering\\_3 & DateTime\\\\\n",
       "  & <chr> & <chr> & <dbl> & <dbl> & <dbl> & <dbl> & <dbl> & <dbl> & <dbl> & <dttm>\\\\\n",
       "\\hline\n",
       "\t66637 & 1/2/2007 & 00:00:00 & 0.326 & 0.128 & 243.15 & 1.4 & 0 & 0 & 0 & 2007-02-01 00:00:00\\\\\n",
       "\t66638 & 1/2/2007 & 00:01:00 & 0.326 & 0.130 & 243.32 & 1.4 & 0 & 0 & 0 & 2007-02-01 00:01:00\\\\\n",
       "\t66639 & 1/2/2007 & 00:02:00 & 0.324 & 0.132 & 243.51 & 1.4 & 0 & 0 & 0 & 2007-02-01 00:02:00\\\\\n",
       "\t66640 & 1/2/2007 & 00:03:00 & 0.324 & 0.134 & 243.90 & 1.4 & 0 & 0 & 0 & 2007-02-01 00:03:00\\\\\n",
       "\t66641 & 1/2/2007 & 00:04:00 & 0.322 & 0.130 & 243.16 & 1.4 & 0 & 0 & 0 & 2007-02-01 00:04:00\\\\\n",
       "\t66642 & 1/2/2007 & 00:05:00 & 0.320 & 0.126 & 242.29 & 1.4 & 0 & 0 & 0 & 2007-02-01 00:05:00\\\\\n",
       "\\end{tabular}\n"
      ],
      "text/markdown": [
       "\n",
       "A data.frame: 6 × 10\n",
       "\n",
       "| <!--/--> | Date &lt;chr&gt; | Time &lt;chr&gt; | Global_active_power &lt;dbl&gt; | Global_reactive_power &lt;dbl&gt; | Voltage &lt;dbl&gt; | Global_intensity &lt;dbl&gt; | Sub_metering_1 &lt;dbl&gt; | Sub_metering_2 &lt;dbl&gt; | Sub_metering_3 &lt;dbl&gt; | DateTime &lt;dttm&gt; |\n",
       "|---|---|---|---|---|---|---|---|---|---|---|\n",
       "| 66637 | 1/2/2007 | 00:00:00 | 0.326 | 0.128 | 243.15 | 1.4 | 0 | 0 | 0 | 2007-02-01 00:00:00 |\n",
       "| 66638 | 1/2/2007 | 00:01:00 | 0.326 | 0.130 | 243.32 | 1.4 | 0 | 0 | 0 | 2007-02-01 00:01:00 |\n",
       "| 66639 | 1/2/2007 | 00:02:00 | 0.324 | 0.132 | 243.51 | 1.4 | 0 | 0 | 0 | 2007-02-01 00:02:00 |\n",
       "| 66640 | 1/2/2007 | 00:03:00 | 0.324 | 0.134 | 243.90 | 1.4 | 0 | 0 | 0 | 2007-02-01 00:03:00 |\n",
       "| 66641 | 1/2/2007 | 00:04:00 | 0.322 | 0.130 | 243.16 | 1.4 | 0 | 0 | 0 | 2007-02-01 00:04:00 |\n",
       "| 66642 | 1/2/2007 | 00:05:00 | 0.320 | 0.126 | 242.29 | 1.4 | 0 | 0 | 0 | 2007-02-01 00:05:00 |\n",
       "\n"
      ],
      "text/plain": [
       "      Date     Time     Global_active_power Global_reactive_power Voltage\n",
       "66637 1/2/2007 00:00:00 0.326               0.128                 243.15 \n",
       "66638 1/2/2007 00:01:00 0.326               0.130                 243.32 \n",
       "66639 1/2/2007 00:02:00 0.324               0.132                 243.51 \n",
       "66640 1/2/2007 00:03:00 0.324               0.134                 243.90 \n",
       "66641 1/2/2007 00:04:00 0.322               0.130                 243.16 \n",
       "66642 1/2/2007 00:05:00 0.320               0.126                 242.29 \n",
       "      Global_intensity Sub_metering_1 Sub_metering_2 Sub_metering_3\n",
       "66637 1.4              0              0              0             \n",
       "66638 1.4              0              0              0             \n",
       "66639 1.4              0              0              0             \n",
       "66640 1.4              0              0              0             \n",
       "66641 1.4              0              0              0             \n",
       "66642 1.4              0              0              0             \n",
       "      DateTime           \n",
       "66637 2007-02-01 00:00:00\n",
       "66638 2007-02-01 00:01:00\n",
       "66639 2007-02-01 00:02:00\n",
       "66640 2007-02-01 00:03:00\n",
       "66641 2007-02-01 00:04:00\n",
       "66642 2007-02-01 00:05:00"
      ]
     },
     "metadata": {},
     "output_type": "display_data"
    }
   ],
   "source": [
    "days$DateTime <- strptime(paste(days$Date, days$Time), format= \"%d/%m/ %Y %H:%M:%S\")\n",
    "head(days)"
   ]
  },
  {
   "cell_type": "code",
   "execution_count": null,
   "metadata": {
    "vscode": {
     "languageId": "r"
    }
   },
   "outputs": [],
   "source": [
    "png(filename = \"plot2.png\", width= 480, height= 480)"
   ]
  },
  {
   "cell_type": "code",
   "execution_count": 11,
   "metadata": {
    "vscode": {
     "languageId": "r"
    }
   },
   "outputs": [
    {
     "ename": "ERROR",
     "evalue": "Error in (function (formula, data = NULL, subset = NULL, na.action, drop.unused.levels = FALSE, : invalid type (list) for variable 'DateTime'\n",
     "output_type": "error",
     "traceback": [
      "Error in (function (formula, data = NULL, subset = NULL, na.action, drop.unused.levels = FALSE, : invalid type (list) for variable 'DateTime'\nTraceback:\n",
      "1. with.default(days, plot(Global_active_power ~ DateTime, type = \"l\", \n .     ylab = \"Global Active Power (kilowatts)\", xaxt = \"n\"))",
      "2. eval(substitute(expr), data, enclos = parent.frame())",
      "3. eval(substitute(expr), data, enclos = parent.frame())",
      "4. plot(Global_active_power ~ DateTime, type = \"l\", ylab = \"Global Active Power (kilowatts)\", \n .     xaxt = \"n\")",
      "5. plot.formula(Global_active_power ~ DateTime, type = \"l\", ylab = \"Global Active Power (kilowatts)\", \n .     xaxt = \"n\")",
      "6. eval(m, eframe)",
      "7. eval(m, eframe)",
      "8. (function (formula, data = NULL, subset = NULL, na.action, drop.unused.levels = FALSE, \n .     xlev = NULL, ...) \n . {\n .     possible_newdata <- !missing(data) && is.data.frame(data) && \n .         identical(substitute(data), quote(newdata)) && (nr <- nrow(data)) > \n .         0\n .     if (!missing(formula) && nargs() == 1 && is.list(formula) && \n .         !is.null(m <- formula$model)) \n .         return(m)\n .     if (!missing(formula) && nargs() == 1 && is.list(formula) && \n .         all(c(\"terms\", \"call\") %in% names(formula))) {\n .         fcall <- formula$call\n .         m <- match(c(\"formula\", \"data\", \"subset\", \"weights\", \n .             \"na.action\"), names(fcall), 0)\n .         fcall <- fcall[c(1, m)]\n .         fcall[[1L]] <- quote(stats::model.frame)\n .         env <- environment(formula$terms) %||% parent.frame()\n .         return(eval(fcall, env))\n .     }\n .     if (missing(formula)) {\n .         if (!missing(data) && inherits(data, \"data.frame\") && \n .             length(attr(data, \"terms\"))) \n .             return(data)\n .         formula <- as.formula(data)\n .     }\n .     else if (missing(data) && inherits(formula, \"data.frame\")) {\n .         if (length(attr(formula, \"terms\"))) \n .             return(formula)\n .         data <- formula\n .         formula <- as.formula(data)\n .     }\n .     else formula <- as.formula(formula)\n .     if (missing(na.action)) {\n .         na.action <- if (!is.null(naa <- attr(data, \"na.action\")) && \n .             mode(naa) != \"numeric\") \n .             naa\n .         else getOption(\"na.action\") %||% na.fail\n .     }\n .     if (missing(data)) \n .         data <- environment(formula)\n .     else if (!is.data.frame(data) && !is.environment(data) && \n .         !is.null(attr(data, \"class\"))) \n .         data <- as.data.frame(data)\n .     else if (is.array(data)) \n .         stop(\"'data' must be a data.frame, not a matrix or an array\")\n .     if (!is.data.frame(data) && !is.environment(data) && !is.list(data) && \n .         !is.null(data)) \n .         stop(\"'data' must be a data.frame, environment, or list\")\n .     if (!inherits(formula, \"terms\")) \n .         formula <- terms(formula, data = data)\n .     env <- environment(formula)\n .     rownames <- .row_names_info(data, 0L)\n .     vars <- attr(formula, \"variables\")\n .     predvars <- attr(formula, \"predvars\") %||% vars\n .     varnames <- vapply(vars, deparse2, \" \")[-1L]\n .     variables <- eval(predvars, data, env)\n .     resp <- attr(formula, \"response\")\n .     if (is.null(rownames) && resp > 0L) {\n .         lhs <- variables[[resp]]\n .         rownames <- if (is.matrix(lhs)) \n .             rownames(lhs)\n .         else names(lhs)\n .     }\n .     if (possible_newdata && length(variables)) {\n .         nr2 <- max(sapply(variables, NROW))\n .         if (nr2 != nr) \n .             warning(sprintf(paste0(ngettext(nr, \"'newdata' had %d row\", \n .                 \"'newdata' had %d rows\"), \" \", ngettext(nr2, \n .                 \"but variable found had %d row\", \"but variables found have %d rows\")), \n .                 nr, nr2), call. = FALSE, domain = NA)\n .     }\n .     if (is.null(attr(formula, \"predvars\"))) {\n .         for (i in seq_along(varnames)) predvars[[i + 1L]] <- makepredictcall(variables[[i]], \n .             vars[[i + 1L]])\n .         attr(formula, \"predvars\") <- predvars\n .     }\n .     extras <- substitute(list(...))\n .     extranames <- names(extras[-1L])\n .     extras <- eval(extras, data, env)\n .     subset <- eval(substitute(subset), data, env)\n .     data <- .External2(C_modelframe, formula, rownames, variables, \n .         varnames, extras, extranames, subset, na.action)\n .     if (length(xlev)) {\n .         for (nm in names(xlev)) if (!is.null(xl <- xlev[[nm]])) {\n .             xi <- data[[nm]]\n .             if (is.character(xi)) \n .                 xi <- as.factor(xi)\n .             if (!is.factor(xi) || is.null(nxl <- levels(xi))) \n .                 warning(gettextf(\"variable '%s' is not a factor\", \n .                   nm), domain = NA)\n .             else {\n .                 ctr <- attr(xi, \"contrasts\")\n .                 xi <- xi[, drop = TRUE]\n .                 nxl <- levels(xi)\n .                 if (any(m <- is.na(match(nxl, xl)))) \n .                   stop(sprintf(ngettext(length(m), \"factor %s has new level %s\", \n .                     \"factor %s has new levels %s\"), nm, paste(nxl[m], \n .                     collapse = \", \")), domain = NA)\n .                 data[[nm]] <- factor(xi, levels = xl, exclude = NULL)\n .                 if (!identical(attr(data[[nm]], \"contrasts\"), \n .                   ctr)) \n .                   warning(gettextf(\"contrasts dropped from factor %s\", \n .                     nm), call. = FALSE, domain = NA)\n .             }\n .         }\n .     }\n .     else if (drop.unused.levels) {\n .         for (nm in names(data)) {\n .             x <- data[[nm]]\n .             if (is.factor(x) && length(unique(x[!is.na(x)])) < \n .                 length(levels(x))) {\n .                 ctr <- attr(x, \"contrasts\")\n .                 data[[nm]] <- x[, drop = TRUE]\n .                 if (!identical(attr(data[[nm]], \"contrasts\"), \n .                   ctr)) \n .                   warning(gettextf(\"contrasts dropped from factor %s due to missing levels\", \n .                     nm), domain = NA, call. = FALSE)\n .             }\n .         }\n .     }\n .     attr(formula, \"dataClasses\") <- vapply(data, .MFclass, \"\")\n .     attr(data, \"terms\") <- formula\n .     data\n . })(formula = Global_active_power ~ DateTime, na.action = NULL)",
      "9. .handleSimpleError(function (cnd) \n . {\n .     watcher$capture_plot_and_output()\n .     cnd <- sanitize_call(cnd)\n .     watcher$push(cnd)\n .     switch(on_error, continue = invokeRestart(\"eval_continue\"), \n .         stop = invokeRestart(\"eval_stop\"), error = NULL)\n . }, \"invalid type (list) for variable 'DateTime'\", base::quote((function (formula, \n .     data = NULL, subset = NULL, na.action, drop.unused.levels = FALSE, \n .     xlev = NULL, ...) \n . {\n .     possible_newdata <- !missing(data) && is.data.frame(data) && \n .         identical(substitute(data), quote(newdata)) && (nr <- nrow(data)) > \n .         0\n .     if (!missing(formula) && nargs() == 1 && is.list(formula) && \n .         !is.null(m <- formula$model)) \n .         return(m)\n .     if (!missing(formula) && nargs() == 1 && is.list(formula) && \n .         all(c(\"terms\", \"call\") %in% names(formula))) {\n .         fcall <- formula$call\n .         m <- match(c(\"formula\", \"data\", \"subset\", \"weights\", \n .             \"na.action\"), names(fcall), 0)\n .         fcall <- fcall[c(1, m)]\n .         fcall[[1L]] <- quote(stats::model.frame)\n .         env <- environment(formula$terms) %||% parent.frame()\n .         return(eval(fcall, env))\n .     }\n .     if (missing(formula)) {\n .         if (!missing(data) && inherits(data, \"data.frame\") && \n .             length(attr(data, \"terms\"))) \n .             return(data)\n .         formula <- as.formula(data)\n .     }\n .     else if (missing(data) && inherits(formula, \"data.frame\")) {\n .         if (length(attr(formula, \"terms\"))) \n .             return(formula)\n .         data <- formula\n .         formula <- as.formula(data)\n .     }\n .     else formula <- as.formula(formula)\n .     if (missing(na.action)) {\n .         na.action <- if (!is.null(naa <- attr(data, \"na.action\")) && \n .             mode(naa) != \"numeric\") \n .             naa\n .         else getOption(\"na.action\") %||% na.fail\n .     }\n .     if (missing(data)) \n .         data <- environment(formula)\n .     else if (!is.data.frame(data) && !is.environment(data) && \n .         !is.null(attr(data, \"class\"))) \n .         data <- as.data.frame(data)\n .     else if (is.array(data)) \n .         stop(\"'data' must be a data.frame, not a matrix or an array\")\n .     if (!is.data.frame(data) && !is.environment(data) && !is.list(data) && \n .         !is.null(data)) \n .         stop(\"'data' must be a data.frame, environment, or list\")\n .     if (!inherits(formula, \"terms\")) \n .         formula <- terms(formula, data = data)\n .     env <- environment(formula)\n .     rownames <- .row_names_info(data, 0L)\n .     vars <- attr(formula, \"variables\")\n .     predvars <- attr(formula, \"predvars\") %||% vars\n .     varnames <- vapply(vars, deparse2, \" \")[-1L]\n .     variables <- eval(predvars, data, env)\n .     resp <- attr(formula, \"response\")\n .     if (is.null(rownames) && resp > 0L) {\n .         lhs <- variables[[resp]]\n .         rownames <- if (is.matrix(lhs)) \n .             rownames(lhs)\n .         else names(lhs)\n .     }\n .     if (possible_newdata && length(variables)) {\n .         nr2 <- max(sapply(variables, NROW))\n .         if (nr2 != nr) \n .             warning(sprintf(paste0(ngettext(nr, \"'newdata' had %d row\", \n .                 \"'newdata' had %d rows\"), \" \", ngettext(nr2, \n .                 \"but variable found had %d row\", \"but variables found have %d rows\")), \n .                 nr, nr2), call. = FALSE, domain = NA)\n .     }\n .     if (is.null(attr(formula, \"predvars\"))) {\n .         for (i in seq_along(varnames)) predvars[[i + 1L]] <- makepredictcall(variables[[i]], \n .             vars[[i + 1L]])\n .         attr(formula, \"predvars\") <- predvars\n .     }\n .     extras <- substitute(list(...))\n .     extranames <- names(extras[-1L])\n .     extras <- eval(extras, data, env)\n .     subset <- eval(substitute(subset), data, env)\n .     data <- .External2(C_modelframe, formula, rownames, variables, \n .         varnames, extras, extranames, subset, na.action)\n .     if (length(xlev)) {\n .         for (nm in names(xlev)) if (!is.null(xl <- xlev[[nm]])) {\n .             xi <- data[[nm]]\n .             if (is.character(xi)) \n .                 xi <- as.factor(xi)\n .             if (!is.factor(xi) || is.null(nxl <- levels(xi))) \n .                 warning(gettextf(\"variable '%s' is not a factor\", \n .                   nm), domain = NA)\n .             else {\n .                 ctr <- attr(xi, \"contrasts\")\n .                 xi <- xi[, drop = TRUE]\n .                 nxl <- levels(xi)\n .                 if (any(m <- is.na(match(nxl, xl)))) \n .                   stop(sprintf(ngettext(length(m), \"factor %s has new level %s\", \n .                     \"factor %s has new levels %s\"), nm, paste(nxl[m], \n .                     collapse = \", \")), domain = NA)\n .                 data[[nm]] <- factor(xi, levels = xl, exclude = NULL)\n .                 if (!identical(attr(data[[nm]], \"contrasts\"), \n .                   ctr)) \n .                   warning(gettextf(\"contrasts dropped from factor %s\", \n .                     nm), call. = FALSE, domain = NA)\n .             }\n .         }\n .     }\n .     else if (drop.unused.levels) {\n .         for (nm in names(data)) {\n .             x <- data[[nm]]\n .             if (is.factor(x) && length(unique(x[!is.na(x)])) < \n .                 length(levels(x))) {\n .                 ctr <- attr(x, \"contrasts\")\n .                 data[[nm]] <- x[, drop = TRUE]\n .                 if (!identical(attr(data[[nm]], \"contrasts\"), \n .                   ctr)) \n .                   warning(gettextf(\"contrasts dropped from factor %s due to missing levels\", \n .                     nm), domain = NA, call. = FALSE)\n .             }\n .         }\n .     }\n .     attr(formula, \"dataClasses\") <- vapply(data, .MFclass, \"\")\n .     attr(data, \"terms\") <- formula\n .     data\n . })(formula = Global_active_power ~ DateTime, na.action = NULL)))"
     ]
    }
   ],
   "source": [
    "par(bg= \"#ffffff\")\n",
    "with(days, plot(Global_active_power~DateTime, type= \"l\", ylab= \"Global Active Power (kilowatts)\", xaxt= \"n\"))\n",
    "with(days, axis.POSIXct(1, at= c(min(DateTime), median(DateTime), max(DateTime)), labels= c(\"Thu\", \"Fri\", \"Sat\")))"
   ]
  },
  {
   "cell_type": "markdown",
   "metadata": {},
   "source": [
    "## Plot 3"
   ]
  },
  {
   "cell_type": "markdown",
   "metadata": {},
   "source": [
    "## Plot 4"
   ]
  },
  {
   "cell_type": "code",
   "execution_count": null,
   "metadata": {
    "vscode": {
     "languageId": "r"
    }
   },
   "outputs": [],
   "source": []
  }
 ],
 "metadata": {
  "kernelspec": {
   "display_name": "R",
   "language": "R",
   "name": "ir"
  },
  "language_info": {
   "codemirror_mode": "r",
   "file_extension": ".r",
   "mimetype": "text/x-r-source",
   "name": "R",
   "pygments_lexer": "r",
   "version": "4.4.3"
  }
 },
 "nbformat": 4,
 "nbformat_minor": 2
}
